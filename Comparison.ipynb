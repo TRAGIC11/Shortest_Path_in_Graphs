{
 "cells": [
  {
   "cell_type": "code",
   "execution_count": 1,
   "metadata": {},
   "outputs": [],
   "source": [
    "import pickle\n",
    "import time\n",
    "import tqdm\n",
    "from dijkstra import *\n",
    "from ch import *\n",
    "from bidij import *\n",
    "from astar import *"
   ]
  },
  {
   "cell_type": "code",
   "execution_count": 2,
   "metadata": {},
   "outputs": [],
   "source": [
    "n = 49109 # nodes\n",
    "m = 60512 # edges\n",
    "q = 1000  # queries\n",
    "with open('edges.pickle','rb') as f:\n",
    "    edges   = pickle.load(f)\n",
    "\n",
    "with open('coords.pickle','rb') as f:\n",
    "    coords  = pickle.load(f)\n",
    "\n",
    "with open('queries.pickle','rb') as f:\n",
    "    queries = pickle.load(f)\n",
    "\n",
    "assert len(edges) == m\n",
    "assert len(coords) == n\n",
    "assert len(queries) == q"
   ]
  },
  {
   "cell_type": "code",
   "execution_count": 3,
   "metadata": {},
   "outputs": [],
   "source": [
    "adj_bi  = [[[] for _ in range(n)], [[] for _ in range(n)]]\n",
    "cost_bi = [[[] for _ in range(n)], [[] for _ in range(n)]]\n",
    "adj = [[] for _ in range(n)]\n",
    "cost = [[] for _ in range(n)]\n",
    "for e in edges:\n",
    "    u,v,c = e[0],e[1],e[2]\n",
    "    adj_bi[0][u-1].append(v-1)\n",
    "    cost_bi[0][u-1].append(c)\n",
    "    adj_bi[1][v-1].append(u-1)\n",
    "    cost_bi[1][v-1].append(c)\n",
    "    adj[u-1].append(v-1)\n",
    "    cost[u-1].append(c)\n",
    "    \n",
    "x = [c[0] for c in coords]\n",
    "y = [c[1] for c in coords]"
   ]
  },
  {
   "cell_type": "markdown",
   "metadata": {},
   "source": [
    "## Dijkstra"
   ]
  },
  {
   "cell_type": "code",
   "execution_count": 4,
   "metadata": {},
   "outputs": [
    {
     "name": "stderr",
     "output_type": "stream",
     "text": [
      "100%|██████████| 1000/1000 [00:33<00:00, 29.87it/s]"
     ]
    },
    {
     "name": "stdout",
     "output_type": "stream",
     "text": [
      "Dijkstra: 33.48875617980957\n"
     ]
    },
    {
     "name": "stderr",
     "output_type": "stream",
     "text": [
      "\n"
     ]
    }
   ],
   "source": [
    "t1 = time.time()\n",
    "for i in tqdm.tqdm(range(q)):\n",
    "    u,v = queries[i][0],queries[i][1]\n",
    "    dijkstra(adj, cost, u-1, v-1)\n",
    "t2 = time.time()\n",
    "\n",
    "print(f\"Dijkstra: {t2-t1}\")"
   ]
  },
  {
   "cell_type": "markdown",
   "metadata": {},
   "source": [
    "## Bidirectional Dijkstra"
   ]
  },
  {
   "cell_type": "code",
   "execution_count": 5,
   "metadata": {},
   "outputs": [
    {
     "name": "stderr",
     "output_type": "stream",
     "text": [
      "100%|██████████| 1000/1000 [00:05<00:00, 170.98it/s]"
     ]
    },
    {
     "name": "stdout",
     "output_type": "stream",
     "text": [
      "Bidirectional Dijkstra: 5.849478006362915\n"
     ]
    },
    {
     "name": "stderr",
     "output_type": "stream",
     "text": [
      "\n"
     ]
    }
   ],
   "source": [
    "bidij = BiDij(n)\n",
    "bidij.define_values(adj_bi, cost_bi)\n",
    "t1 = time.time()\n",
    "for i in tqdm.tqdm(range(q)):\n",
    "    u,v = queries[i][0],queries[i][1]\n",
    "    bidij.query(adj_bi, cost_bi, u-1, v-1)\n",
    "t2 = time.time()\n",
    "print(f\"Bidirectional Dijkstra: {t2-t1}\")"
   ]
  },
  {
   "cell_type": "markdown",
   "metadata": {},
   "source": [
    "## A* Algorithm"
   ]
  },
  {
   "cell_type": "code",
   "execution_count": 6,
   "metadata": {},
   "outputs": [
    {
     "name": "stderr",
     "output_type": "stream",
     "text": [
      "100%|██████████| 1000/1000 [04:12<00:00,  3.96it/s]"
     ]
    },
    {
     "name": "stdout",
     "output_type": "stream",
     "text": [
      "A*: 252.84441208839417\n"
     ]
    },
    {
     "name": "stderr",
     "output_type": "stream",
     "text": [
      "\n"
     ]
    }
   ],
   "source": [
    "astar = AStar(n, adj, cost, x, y)\n",
    "t1 = time.time()\n",
    "for i in tqdm.tqdm(range(q)):\n",
    "    u,v = queries[i][0],queries[i][1]\n",
    "    astar.query(u-1, v-1)\n",
    "t2 = time.time()\n",
    "print(f\"A*: {t2-t1}\")"
   ]
  },
  {
   "cell_type": "markdown",
   "metadata": {},
   "source": [
    "## Contraction Hierarchies"
   ]
  },
  {
   "cell_type": "code",
   "execution_count": 7,
   "metadata": {},
   "outputs": [
    {
     "name": "stderr",
     "output_type": "stream",
     "text": [
      "100%|██████████| 1000/1000 [00:00<00:00, 7895.00it/s]"
     ]
    },
    {
     "name": "stdout",
     "output_type": "stream",
     "text": [
      "CH-preprocess: 10.156567335128784\n",
      "CH-query: 0.12765955924987793\n"
     ]
    },
    {
     "name": "stderr",
     "output_type": "stream",
     "text": [
      "\n"
     ]
    }
   ],
   "source": [
    "t1 = time.time()\n",
    "ch = DistPreprocessSmall(n, adj_bi, cost_bi)\n",
    "t2 = time.time()\n",
    "for i in tqdm.tqdm(range(q)):\n",
    "    u,v = queries[i][0],queries[i][1]\n",
    "    ch.query(u-1, v-1)\n",
    "t3 = time.time()\n",
    "print(f\"CH-preprocess: {t2-t1}\")\n",
    "print(f\"CH-query: {t3-t2}\")"
   ]
  }
 ],
 "metadata": {
  "kernelspec": {
   "display_name": "Python 3.9.12 ('work')",
   "language": "python",
   "name": "python3"
  },
  "language_info": {
   "codemirror_mode": {
    "name": "ipython",
    "version": 3
   },
   "file_extension": ".py",
   "mimetype": "text/x-python",
   "name": "python",
   "nbconvert_exporter": "python",
   "pygments_lexer": "ipython3",
   "version": "3.9.12"
  },
  "orig_nbformat": 4,
  "vscode": {
   "interpreter": {
    "hash": "3620b340ed2ed479d71e72c732c6d6a6eac39d8adbece51414abdea5ed84aec5"
   }
  }
 },
 "nbformat": 4,
 "nbformat_minor": 2
}
